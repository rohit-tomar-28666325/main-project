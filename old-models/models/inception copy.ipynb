{
 "cells": [
  {
   "cell_type": "code",
   "execution_count": 1,
   "metadata": {},
   "outputs": [],
   "source": [
    "import numpy as np\n",
    "from sklearn.utils.class_weight import compute_class_weight\n",
    "from tensorflow.keras.preprocessing.image import ImageDataGenerator\n",
    "from tensorflow.keras.applications import InceptionV3\n",
    "from tensorflow.keras.models import Model\n",
    "from tensorflow.keras.layers import Dense, GlobalAveragePooling2D\n",
    "from tensorflow.keras.optimizers import Adam\n",
    "from tensorflow.keras.losses import categorical_crossentropy\n",
    "import tensorflow as tf"
   ]
  },
  {
   "cell_type": "code",
   "execution_count": 2,
   "metadata": {},
   "outputs": [
    {
     "name": "stdout",
     "output_type": "stream",
     "text": [
      "Tets\n",
      "Found 24591 images belonging to 5 classes.\n",
      "Found 23416 images belonging to 5 classes.\n",
      "Found 11708 images belonging to 5 classes.\n",
      "Found 1711 images belonging to 1 classes.\n",
      "Found 3705 images belonging to 1 classes.\n",
      "Found 612 images belonging to 1 classes.\n",
      "Found 496 images belonging to 1 classes.\n",
      "Class weights:  {0: 0.2722200697404107, 1: 2.874459380479252, 2: 1.3274493927125506, 3: 8.036274509803922, 4: 9.915725806451613}\n"
     ]
    }
   ],
   "source": [
    "# Parameters\n",
    "img_width, img_height = 224, 224\n",
    "batch_size = 4\n",
    "epochs = 10\n",
    "num_classes = 5\n",
    "validation_split = 0.2  # 20% of the data will be used for validation\n",
    "test_split = 0.1\n",
    "print(\"Tets\")\n",
    "data_dir = './../datasets/dataset1'  # Update this to your dataset directory\n",
    "\n",
    "\n",
    "# Data Generators\n",
    "train_datagen = ImageDataGenerator(\n",
    "    rescale=1./255,\n",
    "    validation_split=validation_split + test_split\n",
    ")\n",
    "\n",
    "# Augmentation parameters for specific classes\n",
    "specific_class_augmentation = ImageDataGenerator(\n",
    "    rescale=1./255,\n",
    "    rotation_range=20,\n",
    "    width_shift_range=0.2,\n",
    "    height_shift_range=0.2,\n",
    "    shear_range=0.2,\n",
    "    zoom_range=0.2,\n",
    "    horizontal_flip=True,\n",
    "    fill_mode='nearest',\n",
    "    validation_split=validation_split + test_split\n",
    ")\n",
    "\n",
    "# Generators for training and validation\n",
    "train_generator = train_datagen.flow_from_directory(\n",
    "    data_dir,\n",
    "    target_size=(img_width, img_height),\n",
    "    batch_size=batch_size,\n",
    "    class_mode='categorical',\n",
    "    subset='training'\n",
    ")\n",
    "\n",
    "validation_datagen = ImageDataGenerator(\n",
    "    rescale=1./255,\n",
    "    validation_split=validation_split / (validation_split + test_split)\n",
    ")\n",
    "\n",
    "validation_generator = validation_datagen.flow_from_directory(\n",
    "    data_dir,\n",
    "    target_size=(img_width, img_height),\n",
    "    batch_size=batch_size,\n",
    "    class_mode='categorical',\n",
    "    subset='validation'\n",
    ")\n",
    "\n",
    "# Data preparation for testing\n",
    "test_datagen = ImageDataGenerator(\n",
    "    rescale=1./255,\n",
    "    validation_split=test_split / (validation_split + test_split)\n",
    ")\n",
    "\n",
    "test_generator = test_datagen.flow_from_directory(\n",
    "    data_dir,\n",
    "    target_size=(img_width, img_height),\n",
    "    batch_size=batch_size,\n",
    "    class_mode='categorical',\n",
    "    subset='validation'\n",
    ")\n",
    "\n",
    "\n",
    "# Oversampling the specified minority classes with augmentation\n",
    "specific_classes = ['1', '2', '3', '4']  # Example specific class indices as strings\n",
    "oversample_ratio = 2  # How many times to oversample the specific classes\n",
    "\n",
    "# Create separate generators for the specific classes with augmentation\n",
    "specific_class_generators = []\n",
    "for cls in specific_classes:\n",
    "    specific_class_generator = specific_class_augmentation.flow_from_directory(\n",
    "        data_dir,\n",
    "        target_size=(img_width, img_height),\n",
    "        batch_size=batch_size,\n",
    "        class_mode='categorical',\n",
    "        classes=[cls],\n",
    "        subset='training',\n",
    "        shuffle=True\n",
    "    )\n",
    "    specific_class_generators.append(specific_class_generator)\n",
    "\n",
    "# Function to combine generators\n",
    "def combined_generator(base_generator, specific_class_generators, oversample_ratio):\n",
    "    while True:\n",
    "        x_batch, y_batch = base_generator.next()\n",
    "        for _ in range(oversample_ratio):\n",
    "            specific_class_index = np.random.randint(len(specific_class_generators))\n",
    "            x_specific, y_specific = specific_class_generators[specific_class_index].next()\n",
    "            \n",
    "            # Ensure y_specific matches the shape of y_batch\n",
    "            if y_specific.shape[1] == 1:\n",
    "                y_specific = np.eye(num_classes)[y_specific[:, 0].astype(int)]  # One-hot encode if necessary\n",
    "                \n",
    "            x_batch = np.concatenate((x_batch, x_specific), axis=0)\n",
    "            y_batch = np.concatenate((y_batch, y_specific), axis=0)\n",
    "        \n",
    "        yield x_batch, y_batch\n",
    "\n",
    "# Combined generator for training\n",
    "combined_train_generator = combined_generator(train_generator, specific_class_generators, oversample_ratio)\n",
    "\n",
    "class_weights = compute_class_weight('balanced', classes=np.unique(train_generator.classes), y=train_generator.classes)\n",
    "class_weights_dict = dict(enumerate(class_weights))\n",
    "\n",
    "print(\"Class weights: \", class_weights_dict)\n"
   ]
  },
  {
   "cell_type": "code",
   "execution_count": 3,
   "metadata": {},
   "outputs": [],
   "source": [
    "# Define a custom weighted categorical cross-entropy loss function\n",
    "def weighted_categorical_crossentropy(weights):\n",
    "    def loss(y_true, y_pred):\n",
    "        y_true = tf.cast(y_true, tf.float32)\n",
    "        y_pred = tf.cast(y_pred, tf.float32)\n",
    "        weights_tensor = tf.reduce_sum(weights * y_true, axis=-1)\n",
    "        unweighted_losses = categorical_crossentropy(y_true, y_pred)\n",
    "        weighted_losses = unweighted_losses * weights_tensor\n",
    "        return tf.reduce_mean(weighted_losses)\n",
    "    return loss\n",
    "\n",
    "# Define the custom loss function using the computed class weights\n",
    "loss_fn = weighted_categorical_crossentropy(class_weights)"
   ]
  },
  {
   "cell_type": "code",
   "execution_count": 4,
   "metadata": {},
   "outputs": [],
   "source": [
    "from sklearn.metrics import balanced_accuracy_score, precision_recall_fscore_support\n",
    "\n",
    "\n",
    "def balanced_accuracy(y_true, y_pred):\n",
    "    y_true = tf.argmax(y_true, axis=1)\n",
    "    y_pred = tf.argmax(y_pred, axis=1)\n",
    "    return tf.py_function(\n",
    "        lambda y_true, y_pred: balanced_accuracy_score(\n",
    "            y_true.numpy(), y_pred.numpy()),\n",
    "        (y_true, y_pred),\n",
    "        tf.float64)\n",
    "\n",
    "\n",
    "def fscore(y_true, y_pred):\n",
    "    y_true = tf.cast(tf.argmax(y_true, axis=1), tf.int32)\n",
    "    y_pred = tf.cast(tf.argmax(y_pred, axis=1), tf.int32)\n",
    "\n",
    "    def compute_fscore(y_true, y_pred):\n",
    "        _, _, fscore, _ = precision_recall_fscore_support(\n",
    "            y_true, y_pred, average='macro', zero_division=0)\n",
    "        return fscore\n",
    "\n",
    "    fscore = tf.py_function(\n",
    "        compute_fscore, (y_true, y_pred), tf.float64)\n",
    "    return fscore"
   ]
  },
  {
   "cell_type": "code",
   "execution_count": 5,
   "metadata": {},
   "outputs": [],
   "source": [
    "epochs = 10\n",
    "learning_rate = 3.9e-5\n",
    "metrics = [\n",
    "    'accuracy',\n",
    "    tf.keras.metrics.CategoricalAccuracy(),\n",
    "    tf.keras.metrics.AUC(),\n",
    "    balanced_accuracy,\n",
    "    fscore,\n",
    "    tf.keras.metrics.Precision(),\n",
    "    tf.keras.metrics.Recall()\n",
    "]"
   ]
  },
  {
   "cell_type": "code",
   "execution_count": 6,
   "metadata": {},
   "outputs": [],
   "source": [
    "import warnings\n",
    "warnings.filterwarnings('ignore', message=\"A single label was found in y_true and y_pred.\")\n",
    "warnings.filterwarnings('ignore', message=\"y_pred contains classes not in y_true\") \n",
    "warnings.filterwarnings('ignore', message=\"A single label was found in 'y_true' and 'y_pred'. For the confusion matrix to have the correct shape, use the 'labels' parameter to pass all known labels.\") \n"
   ]
  },
  {
   "cell_type": "code",
   "execution_count": 10,
   "metadata": {},
   "outputs": [],
   "source": [
    "base_model = InceptionV3(weights='imagenet', include_top=False, input_shape=(img_width, img_height, 3))\n",
    "# Load the InceptionV3 model, excluding the top layer\n",
    "\n",
    "# Add custom top layers\n",
    "x = base_model.output\n",
    "x = GlobalAveragePooling2D()(x)\n",
    "x = Dense(512, activation='relu')(x)\n",
    "predictions = Dense(num_classes, activation='softmax')(x)\n",
    "\n",
    "# Final model\n",
    "model = Model(inputs=base_model.input, outputs=predictions)\n",
    "\n",
    "# Freeze the layers of the base model\n",
    "for layer in base_model.layers:\n",
    "    layer.trainable = False"
   ]
  },
  {
   "cell_type": "code",
   "execution_count": 13,
   "metadata": {},
   "outputs": [
    {
     "name": "stdout",
     "output_type": "stream",
     "text": [
      "Epoch 1/10\n",
      "6148/6148 [==============================] - 644s 103ms/step - loss: 0.7731 - accuracy: 0.7203 - categorical_accuracy: 0.7203 - auc: 0.9425 - balanced_accuracy: 0.4657 - fscore: 0.3832 - precision: 0.8038 - recall: 0.6780 - val_loss: 1.7625 - val_accuracy: 0.2358 - val_categorical_accuracy: 0.2358 - val_auc: 0.6206 - val_balanced_accuracy: 0.2353 - val_fscore: 0.1637 - val_precision: 0.1578 - val_recall: 0.0800\n",
      "Epoch 2/10\n",
      "6148/6148 [==============================] - 632s 103ms/step - loss: 0.6459 - accuracy: 0.7454 - categorical_accuracy: 0.7454 - auc: 0.9541 - balanced_accuracy: 0.5166 - fscore: 0.4271 - precision: 0.8474 - recall: 0.6860 - val_loss: 1.6302 - val_accuracy: 0.2941 - val_categorical_accuracy: 0.2941 - val_auc: 0.7034 - val_balanced_accuracy: 0.3089 - val_fscore: 0.2090 - val_precision: 0.2425 - val_recall: 0.0842\n",
      "Epoch 3/10\n",
      "6148/6148 [==============================] - 617s 100ms/step - loss: 0.6030 - accuracy: 0.7559 - categorical_accuracy: 0.7559 - auc: 0.9577 - balanced_accuracy: 0.5395 - fscore: 0.4473 - precision: 0.8573 - recall: 0.6917 - val_loss: 1.6727 - val_accuracy: 0.3385 - val_categorical_accuracy: 0.3385 - val_auc: 0.7272 - val_balanced_accuracy: 0.3360 - val_fscore: 0.2387 - val_precision: 0.2926 - val_recall: 0.1337\n",
      "Epoch 4/10\n",
      "6148/6148 [==============================] - 607s 99ms/step - loss: 0.5727 - accuracy: 0.7624 - categorical_accuracy: 0.7624 - auc: 0.9602 - balanced_accuracy: 0.5539 - fscore: 0.4587 - precision: 0.8651 - recall: 0.6957 - val_loss: 1.6035 - val_accuracy: 0.3182 - val_categorical_accuracy: 0.3182 - val_auc: 0.7134 - val_balanced_accuracy: 0.3215 - val_fscore: 0.2258 - val_precision: 0.2752 - val_recall: 0.1181\n",
      "Epoch 5/10\n",
      "6148/6148 [==============================] - 605s 98ms/step - loss: 0.5441 - accuracy: 0.7670 - categorical_accuracy: 0.7670 - auc: 0.9620 - balanced_accuracy: 0.5624 - fscore: 0.4658 - precision: 0.8671 - recall: 0.7009 - val_loss: 1.6817 - val_accuracy: 0.3603 - val_categorical_accuracy: 0.3603 - val_auc: 0.7511 - val_balanced_accuracy: 0.3613 - val_fscore: 0.2548 - val_precision: 0.3342 - val_recall: 0.1639\n",
      "Epoch 6/10\n",
      "6148/6148 [==============================] - 603s 98ms/step - loss: 0.5246 - accuracy: 0.7735 - categorical_accuracy: 0.7735 - auc: 0.9637 - balanced_accuracy: 0.5744 - fscore: 0.4781 - precision: 0.8691 - recall: 0.7057 - val_loss: 1.4003 - val_accuracy: 0.4133 - val_categorical_accuracy: 0.4133 - val_auc: 0.7668 - val_balanced_accuracy: 0.4092 - val_fscore: 0.2875 - val_precision: 0.4666 - val_recall: 0.1751\n",
      "Epoch 7/10\n",
      "6148/6148 [==============================] - 600s 98ms/step - loss: 0.5037 - accuracy: 0.7774 - categorical_accuracy: 0.7774 - auc: 0.9652 - balanced_accuracy: 0.5846 - fscore: 0.4892 - precision: 0.8746 - recall: 0.7099 - val_loss: 1.4802 - val_accuracy: 0.4011 - val_categorical_accuracy: 0.4011 - val_auc: 0.7368 - val_balanced_accuracy: 0.3806 - val_fscore: 0.2609 - val_precision: 0.4400 - val_recall: 0.1686\n",
      "Epoch 8/10\n",
      "6148/6148 [==============================] - 599s 97ms/step - loss: 0.4833 - accuracy: 0.7812 - categorical_accuracy: 0.7812 - auc: 0.9665 - balanced_accuracy: 0.5913 - fscore: 0.4956 - precision: 0.8766 - recall: 0.7127 - val_loss: 1.4193 - val_accuracy: 0.4208 - val_categorical_accuracy: 0.4208 - val_auc: 0.7623 - val_balanced_accuracy: 0.4090 - val_fscore: 0.2896 - val_precision: 0.4375 - val_recall: 0.2055\n",
      "Epoch 9/10\n",
      "6148/6148 [==============================] - 590s 96ms/step - loss: 0.4659 - accuracy: 0.7843 - categorical_accuracy: 0.7843 - auc: 0.9676 - balanced_accuracy: 0.5985 - fscore: 0.5018 - precision: 0.8765 - recall: 0.7175 - val_loss: 1.3851 - val_accuracy: 0.3647 - val_categorical_accuracy: 0.3647 - val_auc: 0.7357 - val_balanced_accuracy: 0.3703 - val_fscore: 0.2571 - val_precision: 0.3548 - val_recall: 0.1493\n",
      "Epoch 10/10\n",
      "6148/6148 [==============================] - 609s 99ms/step - loss: 0.4481 - accuracy: 0.7886 - categorical_accuracy: 0.7886 - auc: 0.9690 - balanced_accuracy: 0.6079 - fscore: 0.5095 - precision: 0.8794 - recall: 0.7199 - val_loss: 1.3733 - val_accuracy: 0.2408 - val_categorical_accuracy: 0.2408 - val_auc: 0.6526 - val_balanced_accuracy: 0.2799 - val_fscore: 0.1803 - val_precision: 0.2188 - val_recall: 0.0969\n"
     ]
    }
   ],
   "source": [
    "\n",
    "\n",
    "# Compile the model with the custom loss function\n",
    "model.compile(optimizer=Adam(learning_rate=learning_rate), loss=loss_fn, metrics=metrics)\n",
    "\n",
    "# Train the model\n",
    "history = model.fit(\n",
    "    combined_train_generator,\n",
    "    steps_per_epoch=len(train_generator),\n",
    "    validation_data=validation_generator,\n",
    "    validation_steps=len(validation_generator),\n",
    "    epochs=epochs\n",
    ")"
   ]
  },
  {
   "cell_type": "code",
   "execution_count": 19,
   "metadata": {},
   "outputs": [
    {
     "name": "stdout",
     "output_type": "stream",
     "text": [
      "2927/2927 [==============================] - 44s 15ms/step\n",
      "              precision    recall  f1-score   support\n",
      "\n",
      "           0       0.73      0.13      0.22      8603\n",
      "           1       0.07      0.46      0.12       814\n",
      "           2       0.14      0.29      0.19      1764\n",
      "           3       0.03      0.06      0.04       291\n",
      "           4       0.04      0.08      0.05       236\n",
      "\n",
      "    accuracy                           0.17     11708\n",
      "   macro avg       0.20      0.20      0.12     11708\n",
      "weighted avg       0.57      0.17      0.20     11708\n",
      "\n",
      "[[1098 4146 2576  436  347]\n",
      " [ 114  377  240   49   34]\n",
      " [ 221  855  506  104   78]\n",
      " [  38  121  100   18   14]\n",
      " [  26  111   70   11   18]]\n"
     ]
    }
   ],
   "source": [
    "# Compute confusion matrix and classification report\n",
    "from sklearn.metrics import classification_report, confusion_matrix\n",
    "\n",
    "# Compute confusion matrix and classification report\n",
    "y_true = test_generator.classes\n",
    "y_pred = model.predict(test_generator)\n",
    "y_pred_classes = np.argmax(y_pred, axis=1)\n",
    "\n",
    "print(classification_report(y_true, y_pred_classes, target_names=list(test_generator.class_indices.keys())))\n",
    "conf_matrix = confusion_matrix(y_true, y_pred_classes)\n",
    "print(conf_matrix)\n"
   ]
  },
  {
   "cell_type": "code",
   "execution_count": 20,
   "metadata": {},
   "outputs": [
    {
     "ename": "SyntaxError",
     "evalue": "incomplete input (2527156713.py, line 15)",
     "output_type": "error",
     "traceback": [
      "\u001b[1;36m  Cell \u001b[1;32mIn[20], line 15\u001b[1;36m\u001b[0m\n\u001b[1;33m    plot_confusion_matrix(conf_matrix, list(test_generator.class_indices.keys())\u001b[0m\n\u001b[1;37m                                                                                ^\u001b[0m\n\u001b[1;31mSyntaxError\u001b[0m\u001b[1;31m:\u001b[0m incomplete input\n"
     ]
    }
   ],
   "source": [
    "import matplotlib.pyplot as plt\n",
    "import seaborn as sns\n",
    "\n",
    "\n",
    "# Function to plot confusion matrix\n",
    "def plot_confusion_matrix(cm, class_names):\n",
    "    plt.figure(figsize=(10, 8))\n",
    "    sns.heatmap(cm, annot=True, fmt=\"d\", cmap=\"Blues\", xticklabels=class_names, yticklabels=class_names)\n",
    "    plt.ylabel('True Label')\n",
    "    plt.xlabel('Predicted Label')\n",
    "    plt.title('Confusion Matrix')\n",
    "    plt.show()\n",
    "\n",
    "# Plot the confusion matrix\n",
    "plot_confusion_matrix(conf_matrix, list(test_generator.class_indices.keys())"
   ]
  },
  {
   "cell_type": "code",
   "execution_count": 11,
   "metadata": {},
   "outputs": [
    {
     "name": "stdout",
     "output_type": "stream",
     "text": [
      "Epoch 1/10\n"
     ]
    },
    {
     "name": "stderr",
     "output_type": "stream",
     "text": [
      "c:\\Users\\Computing\\anaconda3\\envs\\RML\\lib\\site-packages\\keras\\optimizers\\optimizer_v2\\adam.py:114: UserWarning: The `lr` argument is deprecated, use `learning_rate` instead.\n",
      "  super().__init__(name, **kwargs)\n"
     ]
    },
    {
     "name": "stdout",
     "output_type": "stream",
     "text": [
      "6148/6148 [==============================] - 637s 102ms/step - loss: 0.2849 - accuracy: 0.9065 - categorical_accuracy: 0.9065 - auc: 0.9890 - balanced_accuracy: 0.7806 - fscore: 0.7252 - precision: 0.9217 - recall: 0.8929 - val_loss: 0.7302 - val_accuracy: 0.7518 - val_categorical_accuracy: 0.7518 - val_auc: 0.9293 - val_balanced_accuracy: 0.6414 - val_fscore: 0.5702 - val_precision: 0.7814 - val_recall: 0.7168\n",
      "Epoch 2/10\n",
      "6148/6148 [==============================] - 644s 105ms/step - loss: 0.2500 - accuracy: 0.9148 - categorical_accuracy: 0.9148 - auc: 0.9915 - balanced_accuracy: 0.8022 - fscore: 0.7416 - precision: 0.9299 - recall: 0.9023 - val_loss: 0.7201 - val_accuracy: 0.7528 - val_categorical_accuracy: 0.7528 - val_auc: 0.9323 - val_balanced_accuracy: 0.6634 - val_fscore: 0.5841 - val_precision: 0.7996 - val_recall: 0.6879\n",
      "Epoch 3/10\n",
      "6148/6148 [==============================] - 624s 101ms/step - loss: 0.2288 - accuracy: 0.9204 - categorical_accuracy: 0.9204 - auc: 0.9929 - balanced_accuracy: 0.8229 - fscore: 0.7630 - precision: 0.9345 - recall: 0.9079 - val_loss: 0.6440 - val_accuracy: 0.7779 - val_categorical_accuracy: 0.7779 - val_auc: 0.9450 - val_balanced_accuracy: 0.6812 - val_fscore: 0.6159 - val_precision: 0.8034 - val_recall: 0.7497\n",
      "Epoch 4/10\n",
      "6148/6148 [==============================] - 634s 103ms/step - loss: 0.1990 - accuracy: 0.9294 - categorical_accuracy: 0.9294 - auc: 0.9946 - balanced_accuracy: 0.8511 - fscore: 0.7941 - precision: 0.9409 - recall: 0.9184 - val_loss: 0.6151 - val_accuracy: 0.7960 - val_categorical_accuracy: 0.7960 - val_auc: 0.9517 - val_balanced_accuracy: 0.7112 - val_fscore: 0.6508 - val_precision: 0.8130 - val_recall: 0.7805\n",
      "Epoch 5/10\n",
      "6148/6148 [==============================] - 622s 101ms/step - loss: 0.1611 - accuracy: 0.9420 - categorical_accuracy: 0.9420 - auc: 0.9964 - balanced_accuracy: 0.8856 - fscore: 0.8360 - precision: 0.9515 - recall: 0.9330 - val_loss: 0.5699 - val_accuracy: 0.8233 - val_categorical_accuracy: 0.8233 - val_auc: 0.9571 - val_balanced_accuracy: 0.7639 - val_fscore: 0.7029 - val_precision: 0.8417 - val_recall: 0.8059\n",
      "Epoch 6/10\n",
      "6148/6148 [==============================] - 626s 102ms/step - loss: 0.1206 - accuracy: 0.9563 - categorical_accuracy: 0.9563 - auc: 0.9978 - balanced_accuracy: 0.9169 - fscore: 0.8775 - precision: 0.9629 - recall: 0.9501 - val_loss: 0.5967 - val_accuracy: 0.8416 - val_categorical_accuracy: 0.8416 - val_auc: 0.9572 - val_balanced_accuracy: 0.7937 - val_fscore: 0.7361 - val_precision: 0.8547 - val_recall: 0.8270\n",
      "Epoch 7/10\n",
      "6148/6148 [==============================] - 625s 102ms/step - loss: 0.0891 - accuracy: 0.9676 - categorical_accuracy: 0.9676 - auc: 0.9987 - balanced_accuracy: 0.9397 - fscore: 0.9103 - precision: 0.9718 - recall: 0.9635 - val_loss: 0.6863 - val_accuracy: 0.8145 - val_categorical_accuracy: 0.8145 - val_auc: 0.9491 - val_balanced_accuracy: 0.7870 - val_fscore: 0.7038 - val_precision: 0.8295 - val_recall: 0.7989\n",
      "Epoch 8/10\n",
      "6148/6148 [==============================] - 623s 101ms/step - loss: 0.0667 - accuracy: 0.9756 - categorical_accuracy: 0.9756 - auc: 0.9992 - balanced_accuracy: 0.9547 - fscore: 0.9306 - precision: 0.9785 - recall: 0.9733 - val_loss: 0.7166 - val_accuracy: 0.8525 - val_categorical_accuracy: 0.8525 - val_auc: 0.9533 - val_balanced_accuracy: 0.8115 - val_fscore: 0.7503 - val_precision: 0.8589 - val_recall: 0.8473\n",
      "Epoch 9/10\n",
      "6148/6148 [==============================] - 627s 102ms/step - loss: 0.0549 - accuracy: 0.9804 - categorical_accuracy: 0.9804 - auc: 0.9993 - balanced_accuracy: 0.9641 - fscore: 0.9460 - precision: 0.9822 - recall: 0.9787 - val_loss: 0.7297 - val_accuracy: 0.8438 - val_categorical_accuracy: 0.8438 - val_auc: 0.9519 - val_balanced_accuracy: 0.8069 - val_fscore: 0.7407 - val_precision: 0.8500 - val_recall: 0.8382\n",
      "Epoch 10/10\n",
      "6148/6148 [==============================] - 623s 101ms/step - loss: 0.0470 - accuracy: 0.9833 - categorical_accuracy: 0.9833 - auc: 0.9994 - balanced_accuracy: 0.9684 - fscore: 0.9524 - precision: 0.9845 - recall: 0.9819 - val_loss: 0.7640 - val_accuracy: 0.8574 - val_categorical_accuracy: 0.8574 - val_auc: 0.9520 - val_balanced_accuracy: 0.8165 - val_fscore: 0.7578 - val_precision: 0.8627 - val_recall: 0.8536\n"
     ]
    }
   ],
   "source": [
    "for layer in base_model.layers[:249]:  # Adjust the index as needed\n",
    "    layer.trainable = False\n",
    "for layer in base_model.layers[249:]:\n",
    "    layer.trainable = True\n",
    "\n",
    "# Recompile the model with a lower learning rate\n",
    "# model.compile(optimizer=Adam(lr=0.00001), loss=loss_fn, metrics=['accuracy'])\n",
    "model.compile(optimizer=Adam(lr=learning_rate), loss=\"categorical_crossentropy\", metrics=metrics)\n",
    "\n",
    "# Continue training (fine-tuning)\n",
    "# Train the model\n",
    "history = model.fit(\n",
    "    combined_train_generator,\n",
    "    steps_per_epoch=len(train_generator),\n",
    "    validation_data=validation_generator,\n",
    "    validation_steps=len(validation_generator),\n",
    "    epochs=epochs\n",
    ")"
   ]
  }
 ],
 "metadata": {
  "kernelspec": {
   "display_name": "AML",
   "language": "python",
   "name": "python3"
  },
  "language_info": {
   "codemirror_mode": {
    "name": "ipython",
    "version": 3
   },
   "file_extension": ".py",
   "mimetype": "text/x-python",
   "name": "python",
   "nbconvert_exporter": "python",
   "pygments_lexer": "ipython3",
   "version": "3.10.14"
  }
 },
 "nbformat": 4,
 "nbformat_minor": 2
}
